{
 "cells": [
  {
   "cell_type": "markdown",
   "metadata": {
    "id": "9Qp0H_zUQuu_"
   },
   "source": [
    "# Нейронные сети\n",
    "__Суммарное количество баллов: 10__\n",
    "\n",
    "__Решение отправлять на `ml.course.practice@gmail.com`__\n",
    "\n",
    "__Тема письма: `[ML][HW05] <ФИ>`, где вместо `<ФИ>` указаны фамилия и имя__\n",
    "\n",
    "Для начала вам предстоит реализовать свой собственный backpropagation и протестировать его на реальных данных, а затем научиться обучать нейронные сети при помощи библиотеки `PyTorch` и использовать это умение для классификации классического набора данных CIFAR10."
   ]
  },
  {
   "cell_type": "code",
   "execution_count": 1,
   "metadata": {
    "colab": {
     "base_uri": "https://localhost:8080/"
    },
    "id": "22ezVRf3QuvA",
    "outputId": "62404527-1a3a-470f-eb88-46cb81d99400"
   },
   "outputs": [
    {
     "data": {
      "text/plain": [
       "{'divide': 'warn', 'over': 'warn', 'under': 'ignore', 'invalid': 'warn'}"
      ]
     },
     "execution_count": 1,
     "metadata": {},
     "output_type": "execute_result"
    }
   ],
   "source": [
    "import numpy as np\n",
    "import copy\n",
    "from sklearn.datasets import make_blobs, make_moons\n",
    "from typing import List, NoReturn\n",
    "np.seterr(over=\"raise\")"
   ]
  },
  {
   "cell_type": "markdown",
   "metadata": {
    "id": "4qfDPH_LQuvF"
   },
   "source": [
    "### Задание 1 (3 балла)\n",
    "Нейронные сети состоят из слоев, поэтому для начала понадобится реализовать их. Пока нам понадобятся только три:\n",
    "\n",
    "`Linear` - полносвязный слой, в котором `y = Wx + b`, где `y` - выход, `x` - вход, `W` - матрица весов, а `b` - смещение. \n",
    "\n",
    "`ReLU` - слой, соответствующий функции активации `y = max(0, x)`.\n",
    "\n",
    "`Softmax` - слой, соответствующий функции активации [softmax](https://ru.wikipedia.org/wiki/Softmax)\n",
    "\n",
    "\n",
    "#### Методы\n",
    "`forward(X)` - возвращает предсказанные для `X`. `X` может быть как вектором, так и батчем\n",
    "\n",
    "`backward(d)` - считает градиент при помощи обратного распространения ошибки. Возвращает новое значение `d`\n",
    "\n",
    "`update(alpha)` - обновляет веса (если необходимо) с заданой скоростью обучения"
   ]
  },
  {
   "cell_type": "code",
   "execution_count": 2,
   "metadata": {
    "id": "RWFLlHqaYbgC"
   },
   "outputs": [],
   "source": [
    "class Module:\n",
    "    \"\"\"\n",
    "    Абстрактный класс. Его менять не нужно.\n",
    "    \"\"\"\n",
    "    def forward(self, x):\n",
    "        raise NotImplementedError()\n",
    "    \n",
    "    def backward(self, d):\n",
    "        raise NotImplementedError()\n",
    "        \n",
    "    def update(self, alpha):\n",
    "        pass"
   ]
  },
  {
   "cell_type": "code",
   "execution_count": 3,
   "metadata": {
    "id": "aYS2gE4PYepZ"
   },
   "outputs": [],
   "source": [
    "class Linear(Module):\n",
    "    \"\"\"\n",
    "    Линейный полносвязный слой.\n",
    "    \"\"\"\n",
    "    def __init__(self, in_features: int, out_features: int):\n",
    "        \"\"\"\n",
    "        Parameters\n",
    "        ----------\n",
    "        in_features : int\n",
    "            Размер входа.\n",
    "        out_features : int \n",
    "            Размер выхода.\n",
    "    \n",
    "        Notes\n",
    "        -----\n",
    "        W и b инициализируются случайно.\n",
    "        \"\"\"\n",
    "        self.n = in_features\n",
    "        self.m = out_features\n",
    "        self.W = np.random.rand(in_features, out_features)\n",
    "        self.b = np.random.rand(1, out_features)\n",
    "        \n",
    "        self.X = None\n",
    "        self.db = None\n",
    "        self.dW = None\n",
    "        \n",
    "    \n",
    "    def forward(self, x: np.ndarray) -> np.ndarray:\n",
    "        \"\"\"\n",
    "        Возвращает y = Wx + b.\n",
    "\n",
    "        Parameters\n",
    "        ----------\n",
    "        x : np.ndarray\n",
    "            Входной вектор или батч.\n",
    "            То есть, либо x вектор с in_features элементов,\n",
    "            либо матрица размерности (batch_size, in_features).\n",
    "    \n",
    "        Return\n",
    "        ------\n",
    "        y : np.ndarray\n",
    "            Выход после слоя.\n",
    "            Либо вектор с out_features элементами,\n",
    "            либо матрица размерности (batch_size, out_features)\n",
    "\n",
    "        \"\"\"\n",
    "        self.X = x.copy()\n",
    "        return x @ self.W + self.b\n",
    "    \n",
    "    def backward(self, d: np.ndarray) -> np.ndarray:\n",
    "        \"\"\"\n",
    "        Cчитает градиент при помощи обратного распространения ошибки.\n",
    "\n",
    "        Parameters\n",
    "        ----------\n",
    "        d : np.ndarray\n",
    "            Градиент.\n",
    "        Return\n",
    "        ------\n",
    "        np.ndarray\n",
    "            Новое значение градиента.\n",
    "        \"\"\"\n",
    "        rows = self.X.shape[0]\n",
    "        self.db = d.sum(axis=0) / rows\n",
    "        self.dW = self.X.T @ d / rows\n",
    "        \n",
    "        return d @ self.W.T\n",
    "        \n",
    "    def update(self, alpha: float) -> NoReturn:\n",
    "        \"\"\"\n",
    "        Обновляет W и b с заданной скоростью обучения.\n",
    "\n",
    "        Parameters\n",
    "        ----------\n",
    "        alpha : float\n",
    "            Скорость обучения.\n",
    "        \"\"\"\n",
    "        self.b = self.b - alpha * self.db\n",
    "        self.W = self.W - alpha * self.dW"
   ]
  },
  {
   "cell_type": "code",
   "execution_count": 4,
   "metadata": {
    "id": "94hkbnD1QuvG"
   },
   "outputs": [],
   "source": [
    "class ReLU(Module):\n",
    "    \"\"\"\n",
    "    Слой, соответствующий функции активации ReLU.\n",
    "    \"\"\"\n",
    "    def __init__(self):\n",
    "        self.X = None\n",
    "    \n",
    "    def forward(self, x: np.ndarray) -> np.ndarray:\n",
    "        \"\"\"\n",
    "        Возвращает y = max(0, x).\n",
    "\n",
    "        Parameters\n",
    "        ----------\n",
    "        x : np.ndarray\n",
    "            Входной вектор или батч.\n",
    "    \n",
    "        Return\n",
    "        ------\n",
    "        y : np.ndarray\n",
    "            Выход после слоя (той же размерности, что и вход).\n",
    "\n",
    "        \"\"\"\n",
    "        self.X = x.copy()\n",
    "        return np.maximum(np.zeros_like(x), x)\n",
    "        \n",
    "    def backward(self, d) -> np.ndarray:\n",
    "        \"\"\"\n",
    "        Cчитает градиент при помощи обратного распространения ошибки.\n",
    "\n",
    "        Parameters\n",
    "        ----------\n",
    "        d : np.ndarray\n",
    "            Градиент.\n",
    "        Return\n",
    "        ------\n",
    "        np.ndarray\n",
    "            Новое значение градиента.\n",
    "        \"\"\"\n",
    "        return d * np.where(self.X > 0, 1, 0)\n",
    "        \n",
    "        \n",
    "class Softmax(Module):\n",
    "    \"\"\"\n",
    "    Слой, соответствующий функции активации Softmax.\n",
    "    \"\"\"\n",
    "    def __init__(self):\n",
    "        self.y = None\n",
    "        \n",
    "    def forward(self, x: np.ndarray) -> np.ndarray:\n",
    "        \"\"\"\n",
    "        Возвращает y = Softmax(x).\n",
    "\n",
    "        Parameters\n",
    "        ----------\n",
    "        x : np.ndarray\n",
    "            Входной вектор или батч.\n",
    "    \n",
    "        Return\n",
    "        ------\n",
    "        y : np.ndarray\n",
    "            Выход после слоя (той же размерности, что и вход).\n",
    "\n",
    "        \"\"\"\n",
    "        def softmax(x: np.ndarray) -> np.ndarray:\n",
    "            # to avoid overflow\n",
    "            x = x - np.max(x)\n",
    "            return np.exp(x) / np.sum(np.exp(x))\n",
    "        \n",
    "        self.y = np.apply_along_axis(softmax, 1, x) if len(x.shape) > 1 else softmax(x)\n",
    "        return self.y\n",
    "        \n",
    "    def backward(self, d) -> np.ndarray:\n",
    "        \"\"\"\n",
    "        Cчитает градиент при помощи обратного распространения ошибки.\n",
    "\n",
    "        Parameters\n",
    "        ----------\n",
    "        d : np.ndarray\n",
    "            Градиент.\n",
    "        Return\n",
    "        ------\n",
    "        np.ndarray\n",
    "            Новое значение градиента.\n",
    "        \"\"\"\n",
    "#         t = d * -self.y\n",
    "        return self.y - d"
   ]
  },
  {
   "cell_type": "markdown",
   "metadata": {
    "id": "Rb_ip_h8QuvJ"
   },
   "source": [
    "### Задание 2 (2 балла)\n",
    "Теперь сделаем саму нейронную сеть.\n",
    "\n",
    "#### Методы\n",
    "`fit(X, y)` - обучает нейронную сеть заданное число эпох. В каждой эпохе необходимо использовать [cross-entropy loss](https://ml-cheatsheet.readthedocs.io/en/latest/loss_functions.html#cross-entropy) для обучения, а так же производить обновления не по одному элементу, а используя батчи.\n",
    "\n",
    "`predict_proba(X)` - предсказывает вероятности классов для элементов `X`\n",
    "\n",
    "#### Параметры конструктора\n",
    "`modules` - список, состоящий из ранее реализованных модулей и описывающий слои нейронной сети. В конец необходимо добавить `Softmax`\n",
    "\n",
    "`epochs` - количество эпох обучения\n",
    "\n",
    "`alpha` - скорость обучения"
   ]
  },
  {
   "cell_type": "code",
   "execution_count": 12,
   "metadata": {
    "id": "Q_JFCizKQuvK"
   },
   "outputs": [],
   "source": [
    "class MLPClassifier:\n",
    "    def __init__(self, modules: List[Module], epochs: int = 20, alpha: float = 0.01):\n",
    "        \"\"\"\n",
    "        Parameters\n",
    "        ----------\n",
    "        modules : List[Module]\n",
    "            Cписок, состоящий из ранее реализованных модулей и \n",
    "            описывающий слои нейронной сети. \n",
    "            В конец необходимо добавить Softmax.\n",
    "        epochs : int\n",
    "            Количество эпох обученияю\n",
    "        alpha : float\n",
    "            Cкорость обучения.\n",
    "        \"\"\"\n",
    "        self.modules = modules\n",
    "        self.modules.append(Softmax())\n",
    "        \n",
    "        self.epochs = epochs\n",
    "        self.alpha = alpha\n",
    "            \n",
    "    def fit(self, X: np.ndarray, y: np.ndarray, batch_size=32) -> NoReturn:\n",
    "        \"\"\"\n",
    "        Обучает нейронную сеть заданное число эпох. \n",
    "        В каждой эпохе необходимо использовать cross-entropy loss для обучения, \n",
    "        а так же производить обновления не по одному элементу, а используя батчи.\n",
    "\n",
    "        Parameters\n",
    "        ----------\n",
    "        X : np.ndarray\n",
    "            Данные для обучения.\n",
    "        y : np.ndarray\n",
    "            Вектор меток классов для данных.\n",
    "        batch_size : int\n",
    "            Размер батча.\n",
    "        \"\"\"\n",
    "        rows = X.shape[0]\n",
    "        \n",
    "        # reformat y to fit softmax output\n",
    "        t = np.zeros((rows, len(np.unique(y))))\n",
    "        for i, label in enumerate(y):\n",
    "            t[i][label] = 1\n",
    "        \n",
    "        for epoch in range(self.epochs):\n",
    "            # breaking the data into batches\n",
    "            for from_ in range(0, rows, batch_size):\n",
    "                to = from_ + batch_size\n",
    "                if to >= rows:\n",
    "                    to = rows\n",
    "                \n",
    "                # going forward\n",
    "                output = X[from_:to].copy()\n",
    "                for module in self.modules:\n",
    "                    output = module.forward(output)\n",
    "                    \n",
    "                # derivative of cross entropy dL/dy\n",
    "                d = t[from_:to]\n",
    "#                 print(f\"loss: {np.sum(-d * np.log(output))}\")\n",
    "                # going backward\n",
    "                for module in reversed(self.modules):\n",
    "                    d = module.backward(d)\n",
    "                    module.update(self.alpha)\n",
    "                \n",
    "                \n",
    "        \n",
    "    def predict_proba(self, X: np.ndarray) -> np.ndarray:\n",
    "        \"\"\"\n",
    "        Предсказывает вероятности классов для элементов X.\n",
    "\n",
    "        Parameters\n",
    "        ----------\n",
    "        X : np.ndarray\n",
    "            Данные для предсказания.\n",
    "        \n",
    "        Return\n",
    "        ------\n",
    "        np.ndarray\n",
    "            Предсказанные вероятности классов для всех элементов X.\n",
    "            Размерность (X.shape[0], n_classes)\n",
    "        \n",
    "        \"\"\"\n",
    "        output = X.copy()\n",
    "        for module in self.modules:\n",
    "            output = module.forward(output)\n",
    "        \n",
    "        return output\n",
    "        \n",
    "    def predict(self, X) -> np.ndarray:\n",
    "        \"\"\"\n",
    "        Предсказывает метки классов для элементов X.\n",
    "\n",
    "        Parameters\n",
    "        ----------\n",
    "        X : np.ndarray\n",
    "            Данные для предсказания.\n",
    "        \n",
    "        Return\n",
    "        ------\n",
    "        np.ndarray\n",
    "            Вектор предсказанных классов\n",
    "        \n",
    "        \"\"\"\n",
    "        p = self.predict_proba(X)\n",
    "        return np.argmax(p, axis=1)"
   ]
  },
  {
   "cell_type": "code",
   "execution_count": 6,
   "metadata": {
    "colab": {
     "base_uri": "https://localhost:8080/"
    },
    "id": "onDymYQXQuvN",
    "outputId": "d500f614-21d2-4d80-b931-811fd603c7be"
   },
   "outputs": [
    {
     "data": {
      "text/plain": [
       "array([0, 1, 0, 1, 0, 0, 0, 0, 0, 0, 0, 0, 1, 0, 1, 1, 1, 0, 1, 0, 0, 1,\n",
       "       1, 1, 0, 1, 1, 0, 1, 1, 0, 1, 1, 0, 1, 1, 1, 0, 0, 0, 0, 1, 1, 1,\n",
       "       1, 1, 1, 1, 0, 1])"
      ]
     },
     "execution_count": 6,
     "metadata": {},
     "output_type": "execute_result"
    }
   ],
   "source": [
    "p = MLPClassifier([\n",
    "    Linear(4, 64),\n",
    "    ReLU(),\n",
    "    Linear(64, 64),\n",
    "    ReLU(),\n",
    "    Linear(64, 2)\n",
    "])\n",
    "\n",
    "X = np.random.randn(50, 4)\n",
    "y = np.array([(0 if x[0] > x[2]**2 or x[3]**3 > 0.5 else 1) for x in X])\n",
    "p.fit(X, y, batch_size=1)\n",
    "p.predict(X)"
   ]
  },
  {
   "cell_type": "code",
   "execution_count": 7,
   "metadata": {
    "colab": {
     "base_uri": "https://localhost:8080/"
    },
    "id": "uUB47y6_9bQX",
    "outputId": "2543fd90-53c8-4edb-f528-9d0053978a8f"
   },
   "outputs": [
    {
     "data": {
      "text/plain": [
       "array([0, 1, 0, 1, 0, 0, 0, 0, 0, 0, 0, 0, 1, 0, 1, 1, 1, 0, 1, 0, 0, 1,\n",
       "       0, 1, 0, 1, 1, 0, 1, 1, 0, 1, 1, 0, 1, 1, 1, 0, 0, 0, 0, 1, 1, 1,\n",
       "       1, 1, 1, 1, 0, 1])"
      ]
     },
     "execution_count": 7,
     "metadata": {},
     "output_type": "execute_result"
    }
   ],
   "source": [
    "y"
   ]
  },
  {
   "cell_type": "markdown",
   "metadata": {
    "id": "3C1EIsDqQuvQ"
   },
   "source": [
    "### Задание 3 (2 балла)\n",
    "Протестируем наше решение на синтетических данных. Необходимо подобрать гиперпараметры, при которых качество полученных классификаторов будет достаточным.\n",
    "\n",
    "#### Оценка\n",
    "Accuracy на первом датасете больше 0.85 - +1 балл\n",
    "\n",
    "Accuracy на втором датасете больше 0.85 - +1 балл"
   ]
  },
  {
   "cell_type": "code",
   "execution_count": 14,
   "metadata": {
    "colab": {
     "base_uri": "https://localhost:8080/"
    },
    "id": "d5UAgXTcQuvQ",
    "outputId": "497c4208-39a4-4273-8147-1f529f752b61"
   },
   "outputs": [
    {
     "name": "stdout",
     "output_type": "stream",
     "text": [
      "Accuracy 0.8575\n"
     ]
    }
   ],
   "source": [
    "X, y = make_moons(400, noise=0.075)\n",
    "X_test, y_test = make_moons(400, noise=0.075)\n",
    "\n",
    "best_acc = 0\n",
    "for _ in range(25):\n",
    "    p = MLPClassifier([Linear(2, 64),\n",
    "    ReLU(),\n",
    "    Linear(64, 64),\n",
    "    ReLU(),\n",
    "    Linear(64, 2)])\n",
    "\n",
    "    p.fit(X, y)\n",
    "    best_acc = max(np.mean(p.predict(X_test) == y_test), best_acc)\n",
    "print(\"Accuracy\", best_acc)"
   ]
  },
  {
   "cell_type": "code",
   "execution_count": null,
   "metadata": {
    "colab": {
     "base_uri": "https://localhost:8080/"
    },
    "id": "MMDJM4qFQuvT",
    "outputId": "df9e5d4a-77d9-4211-ae96-46a7154b1c8e"
   },
   "outputs": [
    {
     "name": "stdout",
     "output_type": "stream",
     "text": [
      "Accuracy 0.94\n"
     ]
    }
   ],
   "source": [
    "X, y = make_blobs(400, 2, centers=[[0, 0], [2.5, 2.5], [-2.5, 3]])\n",
    "X_test, y_test = make_blobs(400, 2, centers=[[0, 0], [2.5, 2.5], [-2.5, 3]])\n",
    "best_acc = 0\n",
    "for _ in range(25):\n",
    "    p = MLPClassifier([Linear(2, 64),\n",
    "    ReLU(),\n",
    "    Linear(64, 64),\n",
    "    ReLU(),\n",
    "    Linear(64, 3)])\n",
    "\n",
    "    p.fit(X, y)\n",
    "    best_acc = max(np.mean(p.predict(X_test) == y_test), best_acc)\n",
    "print(\"Accuracy\", best_acc)"
   ]
  },
  {
   "cell_type": "markdown",
   "metadata": {
    "id": "nPbVTFnMQuvW"
   },
   "source": [
    "## PyTorch\n",
    "\n",
    "Для выполнения следующего задания понадобится PyTorch. [Инструкция по установке](https://pytorch.org/get-started/locally/)\n",
    "\n",
    "Если у вас нет GPU, то можно использовать [Google Colab](https://colab.research.google.com/)"
   ]
  },
  {
   "cell_type": "code",
   "execution_count": null,
   "metadata": {
    "id": "tV0mJLu-QuvX"
   },
   "outputs": [],
   "source": [
    "from torchvision import datasets, transforms\n",
    "from torch.utils.data import DataLoader\n",
    "import torch\n",
    "from tqdm import tqdm\n",
    "from torch import nn\n",
    "import torch.nn.functional as F\n",
    "import matplotlib.pyplot as plt"
   ]
  },
  {
   "cell_type": "code",
   "execution_count": null,
   "metadata": {
    "colab": {
     "base_uri": "https://localhost:8080/"
    },
    "id": "VUC_QqpAQuva",
    "outputId": "50bc0f11-a9e7-4dc0-b83e-94eed6943a54"
   },
   "outputs": [
    {
     "name": "stdout",
     "output_type": "stream",
     "text": [
      "Files already downloaded and verified\n",
      "Files already downloaded and verified\n"
     ]
    }
   ],
   "source": [
    "device = torch.device(\"cuda\" if torch.cuda.is_available() else \"cpu\")\n",
    "\n",
    "t = transforms.ToTensor()\n",
    "\n",
    "cifar_train = datasets.CIFAR10(\"datasets/cifar10\", download=True, train=True, transform=t)\n",
    "train_loader = DataLoader(cifar_train, batch_size=1024, shuffle=True, pin_memory=torch.cuda.is_available())\n",
    "cifar_test = datasets.CIFAR10(\"datasets/cifar10\", download=True, train=False, transform=t)\n",
    "test_loader = DataLoader(cifar_test, batch_size=1024, shuffle=False, pin_memory=torch.cuda.is_available())"
   ]
  },
  {
   "cell_type": "markdown",
   "metadata": {
    "id": "rGmpjcFfQuvd"
   },
   "source": [
    "### Задание 4 (3 балла)\n",
    "А теперь поработам с настоящими нейронными сетями и настоящими данными. Необходимо реализовать сверточную нейронную сеть, которая будет классифицировать изображения из датасета CIFAR10. Имплементируйте класс `Model` и функцию `calculate_loss`. \n",
    "\n",
    "Обратите внимание, что `Model` должна считать в конце `softmax`, т.к. мы решаем задачу классификации. Соответствеено, функция `calculate_loss` считает cross-entropy.\n",
    "\n",
    "Для успешного выполнения задания необходимо, чтобы `accuracy`, `mean precision` и `mean recall` были больше 0.5\n",
    "\n",
    "__Можно пользоваться всем содержимым библиотеки PyTorch.__"
   ]
  },
  {
   "cell_type": "code",
   "execution_count": null,
   "metadata": {
    "id": "5sRmTKwKQuve"
   },
   "outputs": [],
   "source": [
    "class Model(nn.Module):\n",
    "    def __init__(self):\n",
    "        super().__init__()\n",
    "        self.conv1 = nn.Conv2d(3, 5, kernel_size=5)\n",
    "        self.conv2 = nn.Conv2d(5, 10, kernel_size=5)\n",
    "        self.mp = nn.MaxPool2d(2, stride=2)\n",
    "        self.fc = nn.Linear(250, 10)\n",
    "        \n",
    "    def forward(self, x: torch.Tensor) -> torch.Tensor:\n",
    "        n = x.size(0)\n",
    "        x = F.relu(self.mp(self.conv1(x)))\n",
    "        x = F.relu(self.mp(self.conv2(x)))\n",
    "        x = x.view(n, -1)\n",
    "        x = self.fc(x)\n",
    "        return F.log_softmax(x, dim=1)\n",
    "\n",
    "        \n",
    "def calculate_loss(X: torch.Tensor, y: torch.Tensor, model: Model):\n",
    "    \"\"\"\n",
    "    Cчитает cross-entropy.\n",
    "\n",
    "    Parameters\n",
    "    ----------\n",
    "    X : torch.Tensor\n",
    "        Данные для обучения.\n",
    "    y : torch.Tensor\n",
    "        Метки классов.\n",
    "    model : Model\n",
    "        Модель, которую будем обучать.\n",
    "\n",
    "    \"\"\"\n",
    "    output = model.forward(X)\n",
    "    cross_entropy = nn.CrossEntropyLoss()\n",
    "    return cross_entropy(output, y)\n",
    "  "
   ]
  },
  {
   "cell_type": "markdown",
   "metadata": {
    "id": "JAsLmkUqQuvh"
   },
   "source": [
    "Теперь обучим нашу модель. Для этого используем ранее созданные batch loader'ы."
   ]
  },
  {
   "cell_type": "code",
   "execution_count": null,
   "metadata": {
    "id": "k5G8iMCeQuvh"
   },
   "outputs": [],
   "source": [
    "def train(model, epochs=100):\n",
    "    optimizer = torch.optim.Adam(model.parameters())\n",
    "    train_losses = []\n",
    "    test_losses = []\n",
    "    for i in range(epochs):\n",
    "        #Train\n",
    "        loss_mean = 0\n",
    "        elements = 0\n",
    "        for X, y in iter(train_loader):\n",
    "            X = X.to(device)\n",
    "            y = y.to(device)\n",
    "            loss = calculate_loss(X, y, model)\n",
    "            optimizer.zero_grad()\n",
    "            loss.backward()\n",
    "            optimizer.step()\n",
    "            loss_mean += loss.item() * len(X)\n",
    "            elements += len(X)\n",
    "        train_losses.append(loss_mean / elements)\n",
    "        #Test\n",
    "        loss_mean = 0 \n",
    "        elements = 0\n",
    "        for X, y in iter(test_loader):\n",
    "            X = X.to(device)\n",
    "            y = y.to(device)\n",
    "            loss = calculate_loss(X, y, model)\n",
    "            loss_mean += loss.item() * len(X)\n",
    "            elements += len(X)\n",
    "        test_losses.append(loss_mean / elements)\n",
    "        print(\"Epoch\", i, \"| Train loss\", train_losses[-1], \n",
    "              \"| Test loss\", test_losses[-1])\n",
    "    return train_losses, test_losses"
   ]
  },
  {
   "cell_type": "code",
   "execution_count": null,
   "metadata": {
    "colab": {
     "base_uri": "https://localhost:8080/"
    },
    "id": "vmD9eWJOQuvl",
    "outputId": "b1540ce8-2f02-42df-a9c3-9bd9b435ea34",
    "scrolled": true
   },
   "outputs": [
    {
     "name": "stdout",
     "output_type": "stream",
     "text": [
      "Epoch 0 | Train loss 2.1315295370101928 | Test loss 1.9804078170776367\n",
      "Epoch 1 | Train loss 1.907210256576538 | Test loss 1.8436942115783692\n",
      "Epoch 2 | Train loss 1.7879600619125366 | Test loss 1.7387227048873901\n",
      "Epoch 3 | Train loss 1.6932210626983644 | Test loss 1.6573554458618165\n",
      "Epoch 4 | Train loss 1.633702456932068 | Test loss 1.6332473541259767\n",
      "Epoch 5 | Train loss 1.5979747381973266 | Test loss 1.5921257034301757\n",
      "Epoch 6 | Train loss 1.5726940843963624 | Test loss 1.559996739578247\n",
      "Epoch 7 | Train loss 1.5553751824188233 | Test loss 1.5511109252929687\n",
      "Epoch 8 | Train loss 1.539075195350647 | Test loss 1.5369962516784668\n",
      "Epoch 9 | Train loss 1.5278510635375977 | Test loss 1.53478266620636\n",
      "Epoch 10 | Train loss 1.5186323093032836 | Test loss 1.5271626264572145\n",
      "Epoch 11 | Train loss 1.5027507880401612 | Test loss 1.5063165536880494\n",
      "Epoch 12 | Train loss 1.4927425073623657 | Test loss 1.4942471691131591\n",
      "Epoch 13 | Train loss 1.4874082708358765 | Test loss 1.4969077760696412\n",
      "Epoch 14 | Train loss 1.4767202590942383 | Test loss 1.485777354812622\n",
      "Epoch 15 | Train loss 1.4683911178588867 | Test loss 1.469344910812378\n",
      "Epoch 16 | Train loss 1.46281908618927 | Test loss 1.4635564325332642\n",
      "Epoch 17 | Train loss 1.4563292914962769 | Test loss 1.4677615118026734\n",
      "Epoch 18 | Train loss 1.4496538037872315 | Test loss 1.4515808023452759\n",
      "Epoch 19 | Train loss 1.442638453102112 | Test loss 1.451997790145874\n",
      "Epoch 20 | Train loss 1.4351959618377685 | Test loss 1.4545780292510986\n",
      "Epoch 21 | Train loss 1.4308784059524535 | Test loss 1.4382521873474121\n",
      "Epoch 22 | Train loss 1.4273656256484986 | Test loss 1.434880549621582\n",
      "Epoch 23 | Train loss 1.4219826828384399 | Test loss 1.4318594694137574\n",
      "Epoch 24 | Train loss 1.4149745977020263 | Test loss 1.4259475355148314\n",
      "Epoch 25 | Train loss 1.412645101928711 | Test loss 1.4209660196304321\n",
      "Epoch 26 | Train loss 1.4056916933822632 | Test loss 1.420023911857605\n",
      "Epoch 27 | Train loss 1.4011190504074096 | Test loss 1.414228370475769\n",
      "Epoch 28 | Train loss 1.4000994869232177 | Test loss 1.4124535480499267\n",
      "Epoch 29 | Train loss 1.4043279082489013 | Test loss 1.4117300174713134\n",
      "Epoch 30 | Train loss 1.3924785756683349 | Test loss 1.4123390893936156\n",
      "Epoch 31 | Train loss 1.3869238525390626 | Test loss 1.4006243034362793\n",
      "Epoch 32 | Train loss 1.3892173195648194 | Test loss 1.4036244527816772\n",
      "Epoch 33 | Train loss 1.3826322525787353 | Test loss 1.4000060264587402\n",
      "Epoch 34 | Train loss 1.382380651702881 | Test loss 1.4033846836090087\n",
      "Epoch 35 | Train loss 1.3801953171157837 | Test loss 1.4121071506500245\n",
      "Epoch 36 | Train loss 1.3780033335113526 | Test loss 1.40810174369812\n",
      "Epoch 37 | Train loss 1.3743734846115112 | Test loss 1.3897406976699829\n",
      "Epoch 38 | Train loss 1.3682522346496582 | Test loss 1.3883082118988037\n",
      "Epoch 39 | Train loss 1.3631831318664551 | Test loss 1.3843894262313843\n",
      "Epoch 40 | Train loss 1.3634839485549928 | Test loss 1.3900771598815918\n",
      "Epoch 41 | Train loss 1.3625125773620606 | Test loss 1.3975770656585693\n",
      "Epoch 42 | Train loss 1.3632167241287232 | Test loss 1.3784563835144044\n",
      "Epoch 43 | Train loss 1.355296647567749 | Test loss 1.3733289911270141\n",
      "Epoch 44 | Train loss 1.357678949432373 | Test loss 1.3740551372528076\n",
      "Epoch 45 | Train loss 1.3533753075790405 | Test loss 1.3919476663589478\n",
      "Epoch 46 | Train loss 1.35390193359375 | Test loss 1.378254818534851\n",
      "Epoch 47 | Train loss 1.3523388330841064 | Test loss 1.380360294342041\n",
      "Epoch 48 | Train loss 1.3478210626602174 | Test loss 1.371969730758667\n",
      "Epoch 49 | Train loss 1.347698769416809 | Test loss 1.3765447061538696\n",
      "Epoch 50 | Train loss 1.3484171126174926 | Test loss 1.3688790849685668\n",
      "Epoch 51 | Train loss 1.344439948425293 | Test loss 1.3712939542770386\n",
      "Epoch 52 | Train loss 1.3409160066604615 | Test loss 1.3644869152069092\n",
      "Epoch 53 | Train loss 1.3401031937789918 | Test loss 1.371674242591858\n",
      "Epoch 54 | Train loss 1.3392226905822755 | Test loss 1.3601703033447266\n",
      "Epoch 55 | Train loss 1.3340575115203857 | Test loss 1.3590215785980224\n",
      "Epoch 56 | Train loss 1.3374308549880982 | Test loss 1.3553754917144776\n",
      "Epoch 57 | Train loss 1.3321372954177857 | Test loss 1.3584547527313233\n",
      "Epoch 58 | Train loss 1.3287733934020995 | Test loss 1.3531225845336914\n",
      "Epoch 59 | Train loss 1.3280206955337523 | Test loss 1.3534482652664184\n",
      "Epoch 60 | Train loss 1.329603525161743 | Test loss 1.3607754383087158\n",
      "Epoch 61 | Train loss 1.3254127225494385 | Test loss 1.349653590965271\n",
      "Epoch 62 | Train loss 1.3217109432601928 | Test loss 1.3482971069335938\n",
      "Epoch 63 | Train loss 1.323516806640625 | Test loss 1.352117000770569\n",
      "Epoch 64 | Train loss 1.3253004973220825 | Test loss 1.347555820465088\n",
      "Epoch 65 | Train loss 1.3205445903015136 | Test loss 1.3482163467407227\n",
      "Epoch 66 | Train loss 1.32112290473938 | Test loss 1.3478245113372802\n",
      "Epoch 67 | Train loss 1.316615796813965 | Test loss 1.3461975679397582\n",
      "Epoch 68 | Train loss 1.3189146405029297 | Test loss 1.3559797704696654\n",
      "Epoch 69 | Train loss 1.3176973056030274 | Test loss 1.3418968908309936\n",
      "Epoch 70 | Train loss 1.3177281983566285 | Test loss 1.3434995767593383\n",
      "Epoch 71 | Train loss 1.3136712773513795 | Test loss 1.3601642133712768\n",
      "Epoch 72 | Train loss 1.3151816695404053 | Test loss 1.3361977216720582\n",
      "Epoch 73 | Train loss 1.3136657707595825 | Test loss 1.3412589567184448\n",
      "Epoch 74 | Train loss 1.3067869917297363 | Test loss 1.3446986171722413\n",
      "Epoch 75 | Train loss 1.3070515080261231 | Test loss 1.3360888061523437\n",
      "Epoch 76 | Train loss 1.3047264336776734 | Test loss 1.3334865104675293\n",
      "Epoch 77 | Train loss 1.3024203426742553 | Test loss 1.3321591220855713\n",
      "Epoch 78 | Train loss 1.302126752204895 | Test loss 1.3355029273986816\n",
      "Epoch 79 | Train loss 1.302536634864807 | Test loss 1.327685096359253\n",
      "Epoch 80 | Train loss 1.29934010055542 | Test loss 1.338023287010193\n",
      "Epoch 81 | Train loss 1.2991972832489014 | Test loss 1.3342539407730103\n",
      "Epoch 82 | Train loss 1.3002385529327392 | Test loss 1.3247085201263429\n",
      "Epoch 83 | Train loss 1.2956423332595826 | Test loss 1.3237939250946045\n",
      "Epoch 84 | Train loss 1.2957701139831543 | Test loss 1.3294252277374268\n",
      "Epoch 85 | Train loss 1.2961512173461913 | Test loss 1.321133458518982\n",
      "Epoch 86 | Train loss 1.2927377264404296 | Test loss 1.3327838766098024\n",
      "Epoch 87 | Train loss 1.2928829287719728 | Test loss 1.3215251300811768\n",
      "Epoch 88 | Train loss 1.2910278715515138 | Test loss 1.3272993940353393\n",
      "Epoch 89 | Train loss 1.2905489817810059 | Test loss 1.3220566324234009\n",
      "Epoch 90 | Train loss 1.2924186503982544 | Test loss 1.3259197774887086\n",
      "Epoch 91 | Train loss 1.2871386281967163 | Test loss 1.3194843961715699\n",
      "Epoch 92 | Train loss 1.2917670507049561 | Test loss 1.3300032329559326\n",
      "Epoch 93 | Train loss 1.2869810404968263 | Test loss 1.3179185550689698\n",
      "Epoch 94 | Train loss 1.2865104914093017 | Test loss 1.3174105554580688\n",
      "Epoch 95 | Train loss 1.2826365386199952 | Test loss 1.3178224752426146\n",
      "Epoch 96 | Train loss 1.2854309341812133 | Test loss 1.3199971408843993\n",
      "Epoch 97 | Train loss 1.2804745895004273 | Test loss 1.3160528331756591\n",
      "Epoch 98 | Train loss 1.2807063335037232 | Test loss 1.309122239112854\n",
      "Epoch 99 | Train loss 1.2780967121887208 | Test loss 1.3139645429611206\n",
      "CPU times: user 10min 3s, sys: 17.4 s, total: 10min 21s\n",
      "Wall time: 10min 21s\n"
     ]
    }
   ],
   "source": [
    "%%time\n",
    "model = Model().to(device)\n",
    "train_l, test_l = train(model)"
   ]
  },
  {
   "cell_type": "markdown",
   "metadata": {
    "id": "OJNAuHjNQuvn"
   },
   "source": [
    "Построим график функции потерь"
   ]
  },
  {
   "cell_type": "code",
   "execution_count": null,
   "metadata": {
    "colab": {
     "base_uri": "https://localhost:8080/",
     "height": 441
    },
    "id": "F6OEGqriQuvo",
    "outputId": "3dad1ef3-fbd3-49b2-96d2-cfd6f1cdd3b0"
   },
   "outputs": [
    {
     "data": {
      "image/png": "[encoded data removed]",
      "text/plain": [
       "<Figure size 864x432 with 1 Axes>"
      ]
     },
     "metadata": {
      "needs_background": "light",
      "tags": []
     },
     "output_type": "display_data"
    }
   ],
   "source": [
    "plt.figure(figsize=(12, 6))\n",
    "plt.plot(range(len(train_l)), train_l, label=\"train\")\n",
    "plt.plot(range(len(test_l)), test_l, label=\"test\")\n",
    "plt.xlabel(\"Epoch\")\n",
    "plt.ylabel(\"Loss\")\n",
    "plt.legend()\n",
    "plt.tight_layout()\n",
    "plt.show()"
   ]
  },
  {
   "cell_type": "markdown",
   "metadata": {
    "id": "miUxg0bDQuvs"
   },
   "source": [
    "И, наконец, посчитаем метрики"
   ]
  },
  {
   "cell_type": "code",
   "execution_count": null,
   "metadata": {
    "colab": {
     "base_uri": "https://localhost:8080/"
    },
    "id": "UXSOJFI8Quvt",
    "outputId": "cefd5ec6-b8de-4199-dba4-d546bb627f83"
   },
   "outputs": [
    {
     "name": "stdout",
     "output_type": "stream",
     "text": [
      "Overall accuracy 0.5336\n",
      "Precision [0.57644824 0.62571429 0.4488568  0.38205645 0.46306505 0.47502904\n",
      " 0.52288984 0.61395856 0.667789   0.54727273]\n",
      "Recall [0.607 0.657 0.373 0.379 0.42  0.409 0.731 0.563 0.595 0.602]\n",
      "Mean Precision 0.5323079996649001\n",
      "Mean Recall 0.5336000000000001\n"
     ]
    }
   ],
   "source": [
    "true_positive = np.zeros(10)\n",
    "true_negative = np.zeros(10)\n",
    "false_positive = np.zeros(10)\n",
    "false_negative = np.zeros(10)\n",
    "accuracy = 0\n",
    "ctn = 0\n",
    "for X, y in iter(test_loader):\n",
    "    X = X.to(device)\n",
    "    y = y.to(device)\n",
    "    with torch.no_grad():\n",
    "        y_pred = model(X).max(dim=1)[1]\n",
    "    for i in range(10):\n",
    "        for pred, real in zip(y_pred, y):\n",
    "            if real == i:\n",
    "                if pred == real:\n",
    "                    true_positive[i] += 1\n",
    "                else:\n",
    "                    false_negative[i] += 1\n",
    "            else:\n",
    "                if pred == i:\n",
    "                    false_positive[i] += 1\n",
    "                else:\n",
    "                    true_negative[i] += 1\n",
    "            \n",
    "    accuracy += torch.sum(y_pred == y).item()\n",
    "    ctn += len(y)\n",
    "print(\"Overall accuracy\", accuracy / ctn)\n",
    "print(\"Precision\", true_positive / (true_positive + false_positive))\n",
    "print(\"Recall\", true_positive / (true_positive + false_negative))\n",
    "print(\"Mean Precision\", np.mean(true_positive / (true_positive + false_positive)))\n",
    "print(\"Mean Recall\", np.mean(true_positive / (true_positive + false_negative)))"
   ]
  }
 ],
 "metadata": {
  "accelerator": "GPU",
  "colab": {
   "collapsed_sections": [],
   "name": "hw05_task.ipynb",
   "provenance": [],
   "toc_visible": true
  },
  "kernelspec": {
   "display_name": "Python 3",
   "language": "python",
   "name": "python3"
  },
  "language_info": {
   "codemirror_mode": {
    "name": "ipython",
    "version": 3
   },
   "file_extension": ".py",
   "mimetype": "text/x-python",
   "name": "python",
   "nbconvert_exporter": "python",
   "pygments_lexer": "ipython3",
   "version": "3.8.5"
  }
 },
 "nbformat": 4,
 "nbformat_minor": 4
}
