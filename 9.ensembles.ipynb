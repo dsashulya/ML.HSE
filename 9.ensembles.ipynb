{
 "cells": [
  {
   "cell_type": "markdown",
   "metadata": {
    "id": "1PjQglGj4q54"
   },
   "source": [
    "# Случайные леса\n",
    "__Суммарное количество баллов: 10__\n",
    "\n",
    "__Решение отправлять на `ml.course.practice@gmail.com`__\n",
    "\n",
    "__Тема письма: `[ML][MS][HW09] <ФИ>`, где вместо `<ФИ>` указаны фамилия и имя__\n",
    "\n",
    "В этом задании вам предстоит реализовать ансамбль деревьев решений, известный как случайный лес, применить его к публичным данным пользователей социальной сети Вконтакте, и сравнить его эффективность с ансамблем, предоставляемым библиотекой CatBoost.\n",
    "\n",
    "В результате мы сможем определить, какие подписки пользователей больше всего влияют на определение возраста и пола человека. "
   ]
  },
  {
   "cell_type": "code",
   "execution_count": 1,
   "metadata": {
    "id": "LH5PiGz04q5-"
   },
   "outputs": [],
   "source": [
    "from sklearn.model_selection import train_test_split\n",
    "import numpy as np\n",
    "import pandas\n",
    "import random\n",
    "import matplotlib.pyplot as plt\n",
    "import matplotlib\n",
    "import copy\n",
    "from catboost import CatBoostClassifier\n",
    "from typing import Callable, Union, NoReturn, Optional, Dict, Any, List, Tuple"
   ]
  },
  {
   "cell_type": "code",
   "execution_count": 2,
   "metadata": {
    "id": "bQUJHTjS4q5-"
   },
   "outputs": [],
   "source": [
    "def gini(x: np.ndarray) -> float:\n",
    "    \"\"\"\n",
    "    Считает коэффициент Джини для массива меток x.\n",
    "    \"\"\"\n",
    "    p = x / np.sum(x) if np.sum(x) > 0 else 0\n",
    "    return np.sum(p * (1 - p))\n",
    "\n",
    "\n",
    "def entropy(x: np.ndarray) -> float:\n",
    "    \"\"\"\n",
    "    Считает энтропию для массива меток x.\n",
    "    \"\"\"\n",
    "    p = x / np.sum(x) if np.sum(x) > 0 else 0\n",
    "    return -np.sum(p * np.log(p))\n",
    "\n",
    "\n",
    "def gain(left_y: np.ndarray, right_y: np.ndarray, criterion: Callable) -> float:\n",
    "    \"\"\"\n",
    "    Считает информативность разбиения массива меток.\n",
    "\n",
    "    Parameters\n",
    "    ----------\n",
    "    left_y : np.ndarray\n",
    "        Левая часть разбиения.\n",
    "    right_y : np.ndarray\n",
    "        Правая часть разбиения.\n",
    "    criterion : Callable\n",
    "        Критерий разбиения.\n",
    "    \"\"\"\n",
    "    node = left_y + right_y\n",
    "    return np.sum(node) * criterion(node) - np.sum(left_y) * criterion(left_y) \\\n",
    "           - np.sum(right_y) * criterion(right_y)"
   ]
  },
  {
   "cell_type": "markdown",
   "metadata": {
    "id": "tfxycK0Q4q5_"
   },
   "source": [
    "### Задание 1 (2 балла)\n",
    "Random Forest состоит из деревьев решений. Каждое такое дерево строится на одной из выборок, полученных при помощи bagging. Элементы, которые не вошли в новую обучающую выборку, образуют out-of-bag выборку. Кроме того, в каждом узле дерева мы случайным образом выбираем набор из `max_features` и ищем признак для предиката разбиения только в этом наборе.\n",
    "\n",
    "Сегодня мы будем работать только с бинарными признаками, поэтому нет необходимости выбирать значение признака для разбиения.\n",
    "\n",
    "#### Методы\n",
    "`predict(X)` - возвращает предсказанные метки для элементов выборки `X`\n",
    "\n",
    "#### Параметры конструктора\n",
    "`X, y` - обучающая выборка и соответствующие ей метки классов. Из нее нужно получить выборку для построения дерева при помощи bagging. Out-of-bag выборку нужно запомнить, она понадобится потом.\n",
    "\n",
    "`criterion=\"gini\"` - задает критерий, который будет использоваться при построении дерева. Возможные значения: `\"gini\"`, `\"entropy\"`.\n",
    "\n",
    "`max_depth=None` - ограничение глубины дерева. Если `None` - глубина не ограничена\n",
    "\n",
    "`min_samples_leaf=1` - минимальное количество элементов в каждом листе дерева.\n",
    "\n",
    "`max_features=\"auto\"` - количество признаков, которые могут использоваться в узле. Если `\"auto\"` - равно `sqrt(X.shape[1])`"
   ]
  },
  {
   "cell_type": "code",
   "execution_count": 3,
   "metadata": {},
   "outputs": [],
   "source": [
    "class DecisionTreeLeaf:\n",
    "    \"\"\"\n",
    "\n",
    "    Attributes\n",
    "    ----------\n",
    "    y : dict\n",
    "        Словарь, отображающий метки в вероятность того, что объект, попавший в данный лист,\n",
    "        принадлжит классу, соответствующиему метке\n",
    "    \"\"\"\n",
    "    def __init__(self, y: np.ndarray, encodings: dict):\n",
    "        self.y = encodings[np.argmax(y)]\n",
    "        self.y_dict = self._convert_p(y, encodings)\n",
    "    \n",
    "    def _convert_p(self, y: np.ndarray, encodings: dict) -> dict:\n",
    "        out = {}\n",
    "        for i, v in enumerate(y):\n",
    "            out[encodings[i]] = v\n",
    "        return out\n",
    "\n",
    "    def __str__(self):\n",
    "        return f\"[Leaf {self.y}]\"\n",
    "\n",
    "\n",
    "class DecisionTreeNode:\n",
    "    \"\"\"\n",
    "\n",
    "    Attributes\n",
    "    ----------\n",
    "    split_dim : int\n",
    "        Измерение, по которому разбиваем выборку.\n",
    "    split_value : float\n",
    "        Значение, по которому разбираем выборку.\n",
    "    left : Union[DecisionTreeNode, DecisionTreeLeaf]\n",
    "        Поддерево, отвечающее за случай x[split_dim] < split_value.\n",
    "    right : Union[DecisionTreeNode, DecisionTreeLeaf]\n",
    "        Поддерево, отвечающее за случай x[split_dim] >= split_value.\n",
    "    \"\"\"\n",
    "    def __init__(self, split_dim: int, split_value: float,\n",
    "                 left: Union['DecisionTreeNode', DecisionTreeLeaf, np.ndarray],\n",
    "                 right: Union['DecisionTreeNode', DecisionTreeLeaf, np.ndarray]):\n",
    "        self.split_dim = split_dim\n",
    "        self.split_value = split_value\n",
    "        self.left = left\n",
    "        self.right = right\n",
    "\n",
    "    def __str__(self):\n",
    "        return f\"[Node: left {self.left}, right {self.right}]\""
   ]
  },
  {
   "cell_type": "code",
   "execution_count": 4,
   "metadata": {
    "id": "8smLW2V_4q5_"
   },
   "outputs": [],
   "source": [
    "class DecisionTree:\n",
    "    def __init__(self, X, y, criterion=\"gini\", max_depth=None, min_samples_leaf=1, max_features=\"auto\"):\n",
    "        mask = np.random.choice(np.arange(X.shape[0]), size=X.shape[0])\n",
    "        mask_out = np.setdiff1d(np.arange(X.shape[0]), mask)\n",
    "        self.classes = None\n",
    "        self.encoding = None\n",
    "\n",
    "        self.X = X[mask]\n",
    "        self.X_out = X[mask_out]\n",
    "        self.y = y[mask]\n",
    "        self.y_encoded = self._encode_y(y, self.y)\n",
    "        self.y_out = y[mask_out]\n",
    "        self.criterion = gini if criterion == \"gini\" else entropy\n",
    "        self.max_depth = max_depth\n",
    "        self.min_samples_leaf = min_samples_leaf\n",
    "        self.max_features = max_features\n",
    "        self.n_features = self._get_n_features()\n",
    "\n",
    "        self.root = None\n",
    "\n",
    "    def _get_n_features(self):\n",
    "        if self.max_features == \"auto\":\n",
    "            return int(np.sqrt(self.X.shape[1]))\n",
    "\n",
    "    def _encode_y(self, y, y_masked):\n",
    "        unique = np.unique(y)\n",
    "        self.classes = len(unique)\n",
    "        self.encoding = dict(enumerate(unique))\n",
    "\n",
    "        # encoding y\n",
    "        y_encoded = np.zeros_like(y_masked, dtype=int)\n",
    "        reversed_encoding = {v: i for i, v in enumerate(unique)}\n",
    "        for i, element in enumerate(y_masked):\n",
    "            y_encoded[i] = reversed_encoding[element]\n",
    "        return y_encoded\n",
    "\n",
    "    def fit(self) -> NoReturn:\n",
    "        self.root = self._build_tree(self.X, self.y_encoded, 0)\n",
    "\n",
    "    def _build_tree(self, X: np.ndarray, y: np.ndarray, depth: int):\n",
    "        if not len(X) or not self.min_samples_leaf:\n",
    "            return DecisionTreeNode(split_dim=-1, split_value=-1,\n",
    "                                    left=np.array([]), right=np.array([]))\n",
    "\n",
    "        if self.max_depth is not None and depth == self.max_depth or len(np.unique(y)) == 1:\n",
    "            return self._make_leaf(y)\n",
    "        ###\n",
    "        split_feature, split_value, left, right = self._get_separator(X, y)\n",
    "        ###\n",
    "\n",
    "        if len(left) < self.min_samples_leaf or len(right) < self.min_samples_leaf:\n",
    "            return self._make_leaf(y)\n",
    "\n",
    "        node = DecisionTreeNode(split_dim=split_feature, split_value=split_value,\n",
    "                                left=left, right=right)\n",
    "\n",
    "        node.left = self._build_tree(node.left[:, :-1], node.left[:, -1], depth + 1)\n",
    "        node.right = self._build_tree(node.right[:, :-1], node.right[:, -1], depth + 1)\n",
    "\n",
    "        return node\n",
    "\n",
    "    def _get_separator(self, X: np.ndarray, y: np.ndarray) -> Tuple[int, float, np.ndarray, np.ndarray]:\n",
    "        X_ = np.concatenate((X, y[:, None]), axis=1)\n",
    "        n, f = X.shape\n",
    "        features = np.random.choice(np.arange(f), replace=False, size=self.n_features)\n",
    "        max_score = -np.inf\n",
    "        split_feature, split_value = 0, 0\n",
    "        left, right = None, None\n",
    "        for feature in features:\n",
    "            value = X_[0, feature]\n",
    "            y_left = self._get_classes(X_[X_[:, feature] == value, -1])\n",
    "            y_right = self._get_classes(X_[X_[:, feature] != value, -1])\n",
    "\n",
    "            score = gain(y_left, y_right, self.criterion)\n",
    "\n",
    "            if score > max_score:\n",
    "                max_score = score\n",
    "                split_feature = feature\n",
    "                split_value = value\n",
    "                left, right = X_[X_[:, feature] == split_value], X_[X_[:, feature] != split_value]\n",
    "\n",
    "        return split_feature, split_value, left, right\n",
    "\n",
    "    def _get_classes(self, y: np.ndarray) -> np.ndarray:\n",
    "        out = np.zeros(self.classes)\n",
    "        for element in y:\n",
    "            out[int(element)] += 1\n",
    "        return out\n",
    "\n",
    "    def _make_leaf(self, y: np.ndarray) -> DecisionTreeLeaf:\n",
    "        p = self._get_classes(y)\n",
    "        p = p / np.sum(p)\n",
    "        return DecisionTreeLeaf(p, self.encoding)\n",
    "\n",
    "    def predict_proba(self, X: np.ndarray) -> List[Dict[Any, float]]:\n",
    "        n, features = X.shape\n",
    "        out = [{} for _ in range(n)]\n",
    "        for i in range(n):\n",
    "            root = self.root\n",
    "            while not isinstance(root, DecisionTreeLeaf):\n",
    "                feature, value = root.split_dim, root.split_value\n",
    "                if X[i, feature] == value:\n",
    "                    root = root.left\n",
    "                else:\n",
    "                    root = root.right\n",
    "            # reached leaf\n",
    "            out[i] = root.y_dict\n",
    "        return out\n",
    "\n",
    "    def predict(self, X: np.ndarray) -> list:\n",
    "        proba = self.predict_proba(X)\n",
    "        return [max(p.keys(), key=lambda k: p[k]) for p in proba]"
   ]
  },
  {
   "cell_type": "markdown",
   "metadata": {
    "id": "9oijgwLt4q6A"
   },
   "source": [
    "### Задание 2 (2 балла)\n",
    "Теперь реализуем сам Random Forest. Идея очень простая: строим `n` деревьев, а затем берем модальное предсказание.\n",
    "\n",
    "#### Параметры конструктора\n",
    "`n_estimators` - количество используемых для предсказания деревьев.\n",
    "\n",
    "Остальное - параметры деревьев.\n",
    "\n",
    "#### Методы\n",
    "`fit(X, y)` - строит `n_estimators` деревьев по выборке `X`.\n",
    "\n",
    "`predict(X)` - для каждого элемента выборки `X` возвращает самый частый класс, который предсказывают для него деревья."
   ]
  },
  {
   "cell_type": "code",
   "execution_count": 5,
   "metadata": {
    "id": "APIy88YW4q6A"
   },
   "outputs": [],
   "source": [
    "class RandomForestClassifier:\n",
    "    def __init__(self, criterion=\"gini\", max_depth=None,\n",
    "                 min_samples_leaf=1, max_features=\"auto\", n_estimators=10):\n",
    "        self.criterion = criterion\n",
    "        self.max_depth = max_depth\n",
    "        self.min_samples_leaf = min_samples_leaf\n",
    "        self.max_features = max_features\n",
    "        self.n_estimators = n_estimators\n",
    "        self.trees = None\n",
    "        self.y_type = None\n",
    "        self.n_features = None\n",
    "\n",
    "    def fit(self, X, y):\n",
    "        self.y_type = y.dtype\n",
    "        self.n_features = X.shape[1]\n",
    "        self.trees = [DecisionTree(X, y, criterion=self.criterion, max_depth=self.max_depth,\n",
    "                                   min_samples_leaf=self.min_samples_leaf, max_features=self.max_features)\n",
    "                      for _ in range(self.n_estimators)]\n",
    "        for tree in self.trees:\n",
    "            tree.fit()\n",
    "\n",
    "    def predict(self, X):\n",
    "        n = X.shape[0]\n",
    "        predictions = np.zeros((n, self.n_estimators), dtype=self.y_type)\n",
    "        for i, tree in enumerate(self.trees):\n",
    "            predictions[:, i] = np.array(tree.predict(X))\n",
    "        output = np.zeros(n, dtype=self.y_type)\n",
    "        for i in range(n):\n",
    "            values, counts = np.unique(predictions[i], return_counts=True)\n",
    "            output[i] = values[np.argmax(counts)]\n",
    "        return output"
   ]
  },
  {
   "cell_type": "markdown",
   "metadata": {
    "id": "i80pffMn4q6A"
   },
   "source": [
    "### Задание 3 (2 балла)\n",
    "Часто хочется понимать, насколько большую роль играет тот или иной признак для предсказания класса объекта. Есть различные способы посчитать его важность. Один из простых способов сделать это для Random Forest - посчитать out-of-bag ошибку предсказания `err_oob`, а затем перемешать значения признака `j` и посчитать ее (`err_oob_j`) еще раз. Оценкой важности признака `j` для одного дерева будет разность `err_oob_j - err_oob`, важность для всего леса считается как среднее значение важности по деревьям.\n",
    "\n",
    "Реализуйте функцию `feature_importance`, которая принимает на вход Random Forest и возвращает массив, в котором содержится важность для каждого признака."
   ]
  },
  {
   "cell_type": "code",
   "execution_count": 6,
   "metadata": {
    "id": "rEmVG1Fl4q6B"
   },
   "outputs": [],
   "source": [
    "def feature_importance(rfc):\n",
    "    result = np.zeros((len(rfc.trees), rfc.n_features), dtype=np.float32)\n",
    "    for i, tree in enumerate(rfc.trees):\n",
    "        for feature in range(rfc.n_features):\n",
    "            if len(tree.X_out) == 0:\n",
    "                result[i, feature] = None\n",
    "                continue\n",
    "            err_oob = 1 - (np.mean(tree.predict(tree.X_out) == tree.y_out))\n",
    "            X_shuf =  tree.X_out.copy()\n",
    "            np.random.shuffle(X_shuf[:, feature])\n",
    "            err_oob_j = 1 - (np.mean(tree.predict(X_shuf) == tree.y_out))\n",
    "            result[i, feature] = err_oob_j - err_oob\n",
    "    return np.nanmean(result, axis=0)\n",
    "\n",
    "\n",
    "def most_important_features(importance, names, k=20):\n",
    "    # Выводит названия k самых важных признаков\n",
    "    idicies = np.argsort(importance)[::-1][:k]\n",
    "    return np.array(names)[idicies]"
   ]
  },
  {
   "cell_type": "markdown",
   "metadata": {
    "id": "JooN_YKm4q6B"
   },
   "source": [
    "Наконец, пришло время протестировать наше дерево на простом синтетическом наборе данных. В результате точность должна быть примерно равна `1.0`, наибольшее значение важности должно быть у признака с индексом `4`, признаки с индексами `2` и `3`  должны быть одинаково важны, а остальные признаки - не важны совсем."
   ]
  },
  {
   "cell_type": "code",
   "execution_count": 7,
   "metadata": {
    "id": "8gqYMp994q6B"
   },
   "outputs": [
    {
     "name": "stdout",
     "output_type": "stream",
     "text": [
      "Accuracy: 1.0\n",
      "Importance: [ 0.00059966  0.00069552  0.1682282   0.16412652  0.3157607  -0.00220471]\n"
     ]
    }
   ],
   "source": [
    "def synthetic_dataset(size):\n",
    "    X = [(np.random.randint(0, 2), np.random.randint(0, 2), i % 6 == 3, \n",
    "          i % 6 == 0, i % 3 == 2, np.random.randint(0, 2)) for i in range(size)]\n",
    "    y = [i % 3 for i in range(size)]\n",
    "    return np.array(X), np.array(y)\n",
    "\n",
    "X, y = synthetic_dataset(1000)\n",
    "rfc = RandomForestClassifier(n_estimators=100)\n",
    "rfc.fit(X, y)\n",
    "print(\"Accuracy:\", np.mean(rfc.predict(X) == y))\n",
    "print(\"Importance:\", feature_importance(rfc))"
   ]
  },
  {
   "cell_type": "markdown",
   "metadata": {
    "id": "vRtGOs164q6C"
   },
   "source": [
    "### Задание 4 (1 балл)\n",
    "Теперь поработаем с реальными данными.\n",
    "\n",
    "Выборка состоит из публичных анонимизированных данных пользователей социальной сети Вконтакте. Первые два столбца отражают возрастную группу (`zoomer`, `doomer` и `boomer`) и пол (`female`, `male`). Все остальные столбцы являются бинарными признаками, каждый из них определяет, подписан ли пользователь на определенную группу/публичную страницу или нет.\\\n",
    "\\\n",
    "Необходимо обучить два классификатора, один из которых определяет возрастную группу, а второй - пол.\\\n",
    "\\\n",
    "Эксперименты с множеством используемых признаков и подбор гиперпараметров приветствуются. Лес должен строиться за какое-то разумное время."
   ]
  },
  {
   "cell_type": "code",
   "execution_count": 10,
   "metadata": {
    "id": "HruobK-q4q6C"
   },
   "outputs": [],
   "source": [
    "def read_dataset(path):\n",
    "    dataframe = pandas.read_csv(path, header=0)\n",
    "    dataset = dataframe.values.tolist()\n",
    "    random.shuffle(dataset)\n",
    "    y_age = [row[0] for row in dataset]\n",
    "    y_sex = [row[1] for row in dataset]\n",
    "    X = [row[2:] for row in dataset]\n",
    "    \n",
    "    return np.array(X), np.array(y_age), np.array(y_sex), list(dataframe.columns)[2:]"
   ]
  },
  {
   "cell_type": "code",
   "execution_count": 54,
   "metadata": {
    "id": "K0QXWr3b4q6C"
   },
   "outputs": [],
   "source": [
    "X, y_age, y_sex, features = read_dataset(\"vk.csv\")\n",
    "X_train, X_test, y_age_train, y_age_test, y_sex_train, y_sex_test = train_test_split(X, y_age, y_sex, train_size=0.9)"
   ]
  },
  {
   "cell_type": "markdown",
   "metadata": {
    "id": "I0y8J97m4q6C"
   },
   "source": [
    "#### Возраст"
   ]
  },
  {
   "cell_type": "code",
   "execution_count": 86,
   "metadata": {
    "id": "MLJykJZH4q6C"
   },
   "outputs": [
    {
     "name": "stdout",
     "output_type": "stream",
     "text": [
      "Accuracy: 0.7414880201765448\n",
      "Most important features:\n",
      "1. ovsyanochan\n",
      "2. 4ch\n",
      "3. rhymes\n",
      "4. mudakoff\n",
      "5. styd.pozor\n",
      "6. rapnewrap\n",
      "7. dayvinchik\n",
      "8. pravdashowtop\n",
      "9. iwantyou\n",
      "10. pixel_stickers\n",
      "11. tumblr_vacuum\n",
      "12. reflexia_our_feelings\n",
      "13. leprum\n",
      "14. i_d_t\n",
      "15. pozor\n",
      "16. ultrapir\n",
      "17. bot_maxim\n",
      "18. ne1party\n",
      "19. thesmolny\n",
      "20. ohhluul\n",
      "CPU times: user 6min 10s, sys: 5.93 s, total: 6min 16s\n",
      "Wall time: 6min 20s\n"
     ]
    }
   ],
   "source": [
    "%%time\n",
    "rfc = RandomForestClassifier(n_estimators=20)\n",
    "\n",
    "rfc.fit(X_train, y_age_train)\n",
    "print(\"Accuracy:\", np.mean(rfc.predict(X_test) == y_age_test))\n",
    "print(\"Most important features:\")\n",
    "for i, name in enumerate(most_important_features(feature_importance(rfc), features, 20)):\n",
    "    print(str(i+1) + \".\", name)"
   ]
  },
  {
   "cell_type": "markdown",
   "metadata": {
    "id": "cgNpaAKH4q6D"
   },
   "source": [
    "#### Пол"
   ]
  },
  {
   "cell_type": "code",
   "execution_count": 87,
   "metadata": {
    "id": "X-zne5-R4q6D"
   },
   "outputs": [
    {
     "name": "stdout",
     "output_type": "stream",
     "text": [
      "Accuracy: 0.8474148802017655\n",
      "Most important features:\n",
      "1. 40kg\n",
      "2. girlmeme\n",
      "3. mudakoff\n",
      "4. zerofat\n",
      "5. 9o_6o_9o\n",
      "6. modnailru\n",
      "7. femalemem\n",
      "8. 4ch\n",
      "9. cook_good\n",
      "10. be.women\n",
      "11. be.beauty\n",
      "12. woman.blog\n",
      "13. igm\n",
      "14. reflexia_our_feelings\n",
      "15. rapnewrap\n",
      "16. i_d_t\n",
      "17. beauty\n",
      "18. bon\n",
      "19. sh.cook\n",
      "20. thesmolny\n",
      "CPU times: user 5min 30s, sys: 5.29 s, total: 5min 36s\n",
      "Wall time: 5min 43s\n"
     ]
    }
   ],
   "source": [
    "%%time\n",
    "rfc = RandomForestClassifier(n_estimators=20)\n",
    "rfc.fit(X_train, y_sex_train)\n",
    "print(\"Accuracy:\", np.mean(rfc.predict(X_test) == y_sex_test))\n",
    "print(\"Most important features:\")\n",
    "for i, name in enumerate(most_important_features(feature_importance(rfc), features, 20)):\n",
    "    print(str(i+1) + \".\", name)"
   ]
  },
  {
   "cell_type": "markdown",
   "metadata": {
    "id": "pxeTQylQ4q6D"
   },
   "source": [
    "### CatBoost\n",
    "В качестве аьтернативы попробуем CatBoost. \n",
    "\n",
    "Устаниовить его можно просто с помощью `pip install catboost`. Туториалы можно найти, например, [здесь](https://catboost.ai/docs/concepts/python-usages-examples.html#multiclassification) и [здесь](https://github.com/catboost/tutorials/blob/master/python_tutorial.ipynb). Главное - не забудьте использовать `loss_function='MultiClass'`.\\\n",
    "\\\n",
    "Сначала протестируйте CatBoost на синтетических данных. Выведите точность и важность признаков."
   ]
  },
  {
   "cell_type": "code",
   "execution_count": 8,
   "metadata": {
    "id": "DOqVkEnd4q6D"
   },
   "outputs": [
    {
     "name": "stdout",
     "output_type": "stream",
     "text": [
      "0:\tlearn: 1.0804341\ttotal: 56.2ms\tremaining: 505ms\n",
      "1:\tlearn: 1.0619438\ttotal: 58.3ms\tremaining: 233ms\n",
      "2:\tlearn: 1.0447217\ttotal: 60.5ms\tremaining: 141ms\n",
      "3:\tlearn: 1.0279376\ttotal: 62.6ms\tremaining: 93.9ms\n",
      "4:\tlearn: 1.0108608\ttotal: 64.5ms\tremaining: 64.5ms\n",
      "5:\tlearn: 0.9942288\ttotal: 66.3ms\tremaining: 44.2ms\n",
      "6:\tlearn: 0.9780233\ttotal: 68ms\tremaining: 29.1ms\n",
      "7:\tlearn: 0.9628748\ttotal: 70.2ms\tremaining: 17.5ms\n",
      "8:\tlearn: 0.9480850\ttotal: 72.4ms\tremaining: 8.04ms\n",
      "9:\tlearn: 0.9330281\ttotal: 74.1ms\tremaining: 0us\n",
      "Accuracy: 1.0\n",
      "Importance: [ 0.    0.   28.82 28.63 42.55  0.  ]\n"
     ]
    }
   ],
   "source": [
    "X, y = synthetic_dataset(1000)\n",
    "X_train, X_test, y_train, y_test = train_test_split(X, y)\n",
    "model = CatBoostClassifier(iterations=10,\n",
    "                           learning_rate=0.01,\n",
    "                           depth=5,\n",
    "                           loss_function='MultiClass')\n",
    "model.fit(X_train, y_train)\n",
    "pred = model.predict(X_test)\n",
    "print(\"Accuracy:\", np.mean(pred.T[0] == y_test))\n",
    "print(f\"Importance: {np.round(model.feature_importances_, 2)}\")"
   ]
  },
  {
   "cell_type": "markdown",
   "metadata": {
    "id": "tcLRsSNG4q6E"
   },
   "source": [
    "### Задание 5 (3 балла)\n",
    "Попробуем применить один из используемых на практике алгоритмов. В этом нам поможет CatBoost. Так же как и реализованный нами RandomForest, применим его для определения пола и возраста пользователей сети Вконтакте. Выведите названия наиболее важных признаков так же, как в задании 3.\\\n",
    "\\\n",
    "Эксперименты с множеством используемых признаков и подбор гиперпараметров приветствуются."
   ]
  },
  {
   "cell_type": "code",
   "execution_count": 11,
   "metadata": {
    "id": "hJGrQcO-4q6E"
   },
   "outputs": [],
   "source": [
    "X, y_age, y_sex, features = read_dataset(\"vk.csv\")\n",
    "X_train, X_test, y_age_train, y_age_test, y_sex_train, y_sex_test = train_test_split(X, y_age, y_sex, train_size=0.9)\n",
    "X_train, X_eval, y_age_train, y_age_eval, y_sex_train, y_sex_eval = train_test_split(X_train, y_age_train, y_sex_train, train_size=0.8)"
   ]
  },
  {
   "cell_type": "markdown",
   "metadata": {
    "id": "XA5f_8eC4q6E"
   },
   "source": [
    "#### Возраст"
   ]
  },
  {
   "cell_type": "code",
   "execution_count": 31,
   "metadata": {},
   "outputs": [],
   "source": [
    "age = CatBoostClassifier(iterations=150,\n",
    "                           learning_rate=0.1,\n",
    "                           depth=10,\n",
    "                           loss_function='MultiClass')\n",
    "age.fit(X_train, y_age_train)\n",
    "pred = age.predict(X_test)"
   ]
  },
  {
   "cell_type": "code",
   "execution_count": 30,
   "metadata": {
    "id": "qSeUpxPj4q6E"
   },
   "outputs": [
    {
     "name": "stdout",
     "output_type": "stream",
     "text": [
      "Accuracy: 0.7604035308953342\n",
      "Most important features:\n",
      "1. ovsyanochan\n",
      "2. dayvinchik\n",
      "3. mudakoff\n",
      "4. 4ch\n",
      "5. styd.pozor\n",
      "6. rhymes\n",
      "7. rapnewrap\n",
      "8. xfilm\n",
      "9. leprum\n",
      "10. bestad\n"
     ]
    }
   ],
   "source": [
    "print(\"Accuracy:\", np.mean(pred.T[0] == y_age_test))\n",
    "print(\"Most important features:\")\n",
    "for i, name in enumerate(most_important_features(age.feature_importances_, features, 10)):\n",
    "    print(str(i+1) + \".\", name)"
   ]
  },
  {
   "cell_type": "markdown",
   "metadata": {
    "id": "KfYSptm74q6E"
   },
   "source": [
    "#### Пол"
   ]
  },
  {
   "cell_type": "code",
   "execution_count": 33,
   "metadata": {},
   "outputs": [],
   "source": [
    "sex = CatBoostClassifier(iterations=150,\n",
    "                           learning_rate=0.01,\n",
    "                           depth=10,\n",
    "                           loss_function='MultiClass')\n",
    "sex.fit(X_train, y_sex_train)\n",
    "pred = sex.predict(X_test)"
   ]
  },
  {
   "cell_type": "code",
   "execution_count": 34,
   "metadata": {
    "id": "4rKa-f6F4q6E"
   },
   "outputs": [
    {
     "name": "stdout",
     "output_type": "stream",
     "text": [
      "Accuracy: 0.8600252206809584\n",
      "Most important features:\n",
      "1. 40kg\n",
      "2. girlmeme\n",
      "3. mudakoff\n",
      "4. zerofat\n",
      "5. cook_good\n",
      "6. modnailru\n",
      "7. i_d_t\n",
      "8. thesmolny\n",
      "9. femalemem\n",
      "10. igm\n"
     ]
    }
   ],
   "source": [
    "print(\"Accuracy:\", np.mean(pred.T[0] == y_sex_test))\n",
    "print(\"Most important features:\")\n",
    "for i, name in enumerate(most_important_features(sex.feature_importances_, features, 10)):\n",
    "    print(str(i+1) + \".\", name)"
   ]
  },
  {
   "cell_type": "code",
   "execution_count": null,
   "metadata": {},
   "outputs": [],
   "source": []
  }
 ],
 "metadata": {
  "colab": {
   "collapsed_sections": [],
   "name": "hw09_task.ipynb",
   "provenance": []
  },
  "kernelspec": {
   "display_name": "Python 3",
   "language": "python",
   "name": "python3"
  },
  "language_info": {
   "codemirror_mode": {
    "name": "ipython",
    "version": 3
   },
   "file_extension": ".py",
   "mimetype": "text/x-python",
   "name": "python",
   "nbconvert_exporter": "python",
   "pygments_lexer": "ipython3",
   "version": "3.8.5"
  }
 },
 "nbformat": 4,
 "nbformat_minor": 4
}
