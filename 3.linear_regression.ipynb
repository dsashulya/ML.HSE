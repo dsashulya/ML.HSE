{
 "cells": [
  {
   "cell_type": "markdown",
   "metadata": {
    "id": "afIgLBWb689l"
   },
   "source": [
    "# Линейная регрессия\n",
    "__Суммарное количество баллов: 10__\n",
    "\n",
    "__Решение отправлять на `ml.course.practice@gmail.com`__\n",
    "\n",
    "__Тема письма: `[ML][MS][HW03] <ФИ>`, где вместо `<ФИ>` указаны фамилия и имя__"
   ]
  },
  {
   "cell_type": "code",
   "execution_count": 1,
   "metadata": {
    "id": "bYKrc1lO689l"
   },
   "outputs": [],
   "source": [
    "from sklearn.datasets import make_blobs, make_moons\n",
    "from sklearn.model_selection import train_test_split\n",
    "import numpy as np\n",
    "import random\n",
    "import matplotlib.pyplot as plt\n",
    "import matplotlib\n",
    "import copy"
   ]
  },
  {
   "cell_type": "code",
   "execution_count": 2,
   "metadata": {
    "id": "VOGx85I5689m"
   },
   "outputs": [],
   "source": [
    "def read_data(path=\"boston.csv\"):\n",
    "    dataframe = np.genfromtxt(path, delimiter=\",\", skip_header=15)\n",
    "    np.random.seed(42)\n",
    "    np.random.shuffle(dataframe)\n",
    "    X = dataframe[:, :-1]\n",
    "    y = dataframe[:, -1]\n",
    "    return X, y"
   ]
  },
  {
   "cell_type": "code",
   "execution_count": 3,
   "metadata": {
    "id": "tte75xx7689m"
   },
   "outputs": [],
   "source": [
    "def generate_synthetic(size:int, dim=6, noise=0.1):\n",
    "    X = np.random.randn(size, dim)\n",
    "    w = np.random.randn(dim + 1)\n",
    "    noise = noise * np.random.randn(size)\n",
    "    y = X.dot(w[1:]) + w[0] + noise\n",
    "    return X, y"
   ]
  },
  {
   "cell_type": "markdown",
   "metadata": {
    "id": "Aab8Oyui689m"
   },
   "source": [
    "### Задание 1 (1 балл)\n",
    "Для начала нужно понять, какую метрику для ошибки будем использовать. В нашем случае нам подойдет стандартная метрика MSE. Также чтобы оценить качество модели нам понадобится метрика $R^2$. Реализуйте обе эти метрики."
   ]
  },
  {
   "cell_type": "code",
   "execution_count": 4,
   "metadata": {
    "id": "RDUbABpp689m"
   },
   "outputs": [],
   "source": [
    "def mse(y_true:np.ndarray, y_predicted:np.ndarray):\n",
    "    return np.mean(np.square(y_true - y_predicted))\n",
    "\n",
    "def r2(y_true:np.ndarray, y_predicted:np.ndarray):\n",
    "    rss = sum(np.square(y_true - y_predicted))\n",
    "    tss = sum(np.square(y_true - np.mean(y_true)))\n",
    "    return 1 - rss / tss"
   ]
  },
  {
   "cell_type": "markdown",
   "metadata": {
    "id": "Qqlg3KeW689m"
   },
   "source": [
    "### Задание 2 (3 балла)\n",
    "Теперь реализуем линейную регрессию при помощи явного решения задачи минимизации. \n",
    "\n",
    "#### Методы\n",
    "`fit(X, y)` - решает задачу минимизации $\\arg\\min_{w, b}\\sum ((w\\cdot x + b) - y)^2$. \n",
    "\n",
    "`predict(X)` - строит предсказание `y` для объектов из `X`."
   ]
  },
  {
   "cell_type": "code",
   "execution_count": 11,
   "metadata": {
    "id": "zTGLaghB689m"
   },
   "outputs": [],
   "source": [
    "class NormalLR:\n",
    "    def __init__(self):\n",
    "        self.w = None\n",
    "    \n",
    "    def fit(self, X:np.ndarray, y:np.ndarray):\n",
    "        X_ = np.hstack((np.ones((X.shape[0], 1)), X))\n",
    "        self.w = np.linalg.inv(X_.T @ X_) @ X_.T @ y\n",
    "    \n",
    "    def predict(self, X:np.ndarray) -> np.ndarray:\n",
    "        X_ = np.hstack((np.ones((X.shape[0], 1)), X))\n",
    "        return X_ @ self.w"
   ]
  },
  {
   "cell_type": "code",
   "execution_count": 12,
   "metadata": {
    "id": "hgS8c_sM689m"
   },
   "outputs": [],
   "source": [
    "X, y = generate_synthetic(1024)\n",
    "X_train, X_test, y_train, y_test = train_test_split(X, y, train_size=0.8)"
   ]
  },
  {
   "cell_type": "code",
   "execution_count": 13,
   "metadata": {
    "id": "9DjhMRug689m"
   },
   "outputs": [
    {
     "name": "stdout",
     "output_type": "stream",
     "text": [
      "MSE: 0.009077361058275618, R2: 0.9969602533378904\n"
     ]
    }
   ],
   "source": [
    "regr = NormalLR()\n",
    "regr.fit(X_train, y_train)\n",
    "y_pred = regr.predict(X_test)\n",
    "print(f\"MSE: {mse(y_test, y_pred)}, R2: {r2(y_test, y_pred)}\")"
   ]
  },
  {
   "cell_type": "markdown",
   "metadata": {
    "id": "rPaByJZN689m"
   },
   "source": [
    "### Задание 3 (2 балла)\n",
    "Теперь реализуем линейную регрессию с использованием градиентного спуска с learning rate `alpha` в течение `iterations` итераций. В задании необходимо использовать регуляризацию Лассо с коэффициентом `l`.\n",
    "\n",
    "#### Методы\n",
    "`fit(X, y)` - приближает решение задачи минимизации $\\arg\\min_{w, b}\\sum ((w\\cdot x + b) - y)^2$ при помощи градиентного спуска. \n",
    "\n",
    "\n",
    "`predict(X)` - строит предсказание `y` для объектов из `X`."
   ]
  },
  {
   "cell_type": "code",
   "execution_count": 134,
   "metadata": {
    "id": "oBmZJrhL689m"
   },
   "outputs": [],
   "source": [
    "class GradientLR:\n",
    "    def __init__(self, alpha:float, iterations=10000, l=0.):\n",
    "        self.alpha = alpha\n",
    "        self.iterations = iterations\n",
    "        self.l = l\n",
    "        self.w = None\n",
    "    \n",
    "    def fit(self, X:np.ndarray, y:np.ndarray):\n",
    "        X = X.copy()\n",
    "        X = np.hstack((np.ones((X.shape[0], 1)), X))\n",
    "        def grad(w):\n",
    "            return 1 / X.shape[0] * X.T @ (X @ w - y) + self.l * np.sign(w)\n",
    "        \n",
    "        def gradient_descent(x, max_iter=10000, tol=1e-8):\n",
    "            start_grad = np.linalg.norm(grad(x)) ** 2\n",
    "            for _ in range(max_iter):\n",
    "                g = grad(x)\n",
    "                if np.linalg.norm(g) ** 2 / start_grad < tol:\n",
    "                    break\n",
    "                d = -g\n",
    "                x = x + self.alpha * d\n",
    "            return x\n",
    "        \n",
    "    \n",
    "        self.w = gradient_descent(np.array([1 for _ in range(X.shape[1])]), max_iter=self.iterations)\n",
    "\n",
    "\n",
    "    def predict(self, X:np.ndarray):\n",
    "        X = X.copy()\n",
    "        X = np.hstack((np.ones((X.shape[0], 1)), X))\n",
    "        return X @ self.w\n",
    "    \n",
    "    @property\n",
    "    def coef_(self):\n",
    "        return self.w[1:]\n",
    "    \n",
    "    @property\n",
    "    def intercept_(self):\n",
    "        return self.w[0]"
   ]
  },
  {
   "cell_type": "code",
   "execution_count": 103,
   "metadata": {
    "id": "OPG6AR_b689m"
   },
   "outputs": [],
   "source": [
    "def build_plot(X_train, y_train, X_test, y_test):\n",
    "    xs = np.arange(0.0, 0.002, 0.00002)\n",
    "    errors = []\n",
    "    for x in xs:\n",
    "        regr = GradientLR(0.1, iterations=10000, l=x)\n",
    "        regr.fit(X_train, y_train)\n",
    "        errors.append(mse(y_test, regr.predict(X_test)))\n",
    "    plt.figure(figsize=(9, 4))\n",
    "    plt.xlim(xs[0], xs[-1])\n",
    "    plt.grid()\n",
    "    plt.plot(xs, errors)\n",
    "    plt.xlabel(\"Коэффициент регуляризации\")\n",
    "    plt.ylabel(\"MSE\")\n",
    "    plt.show()"
   ]
  },
  {
   "cell_type": "code",
   "execution_count": 104,
   "metadata": {
    "id": "6D5_9sSc689m"
   },
   "outputs": [],
   "source": [
    "X, y = generate_synthetic(1024)\n",
    "X, X_val, y, y_val = train_test_split(X, y, train_size=0.9, shuffle=True)\n",
    "X_train, X_test, y_train, y_test = train_test_split(X, y, train_size=0.8, shuffle=True)"
   ]
  },
  {
   "cell_type": "code",
   "execution_count": 105,
   "metadata": {
    "id": "OzRIkE7P689m"
   },
   "outputs": [
    {
     "data": {
      "image/png": "[encoded data removed]",
      "text/plain": [
       "<Figure size 648x288 with 1 Axes>"
      ]
     },
     "metadata": {
      "needs_background": "light"
     },
     "output_type": "display_data"
    }
   ],
   "source": [
    "build_plot(X_train, y_train, X_val, y_val)"
   ]
  },
  {
   "cell_type": "code",
   "execution_count": 106,
   "metadata": {
    "id": "e3EYauPK689m"
   },
   "outputs": [
    {
     "name": "stdout",
     "output_type": "stream",
     "text": [
      "MSE: 0.010623679209131955, R2: 0.9985263268229801\n"
     ]
    }
   ],
   "source": [
    "regr = GradientLR(0.1, iterations=10000)\n",
    "regr.fit(X_train, y_train)\n",
    "y_pred = regr.predict(X_test)\n",
    "print(f\"MSE: {mse(y_test, y_pred)}, R2: {r2(y_test, y_pred)}\")"
   ]
  },
  {
   "cell_type": "markdown",
   "metadata": {
    "id": "S_WtOSFG689m"
   },
   "source": [
    "### Задание 4 (2 балла)\n",
    "Протесируйте оба метода на данных `boston.csv`, для градиентного спуска постройте график зависимости ошибки от коэффициента регуляризации. "
   ]
  },
  {
   "cell_type": "code",
   "execution_count": 107,
   "metadata": {
    "id": "_einEvle689m"
   },
   "outputs": [],
   "source": [
    "X, y = read_data()\n",
    "X_train, X_val, y_train, y_val = train_test_split(X, y, train_size=0.8, shuffle=False)"
   ]
  },
  {
   "cell_type": "code",
   "execution_count": 108,
   "metadata": {},
   "outputs": [],
   "source": [
    "def normalise(X_train, X_test, y_train, y_test):\n",
    "    maxs = np.amax(X_train, axis=0)\n",
    "    mins = np.amin(X_train, axis=0)\n",
    "    y_max, y_min = np.max(y_train), np.min(y_train)\n",
    "    for j in range(X_train.shape[1]):\n",
    "        for i in range(X_train.shape[0]):\n",
    "            X_train[i][j] = (X_train[i][j] - mins[j]) / (maxs[j] - mins[j])\n",
    "    for j in range(X_test.shape[1]):\n",
    "        for i in range(X_test.shape[0]):\n",
    "            X_test[i][j] = (X_test[i][j] - mins[j]) / (maxs[j] - mins[j])\n",
    "    \n",
    "    for i in range(y_train.shape[0]):\n",
    "        y_train[i] = (y_train[i] - y_min) / (y_max - y_min)\n",
    "    for i in range(y_test.shape[0]):\n",
    "        y_test[i] = (y_test[i] - y_min) / (y_max - y_min)\n",
    "    \n",
    "    return X_train, X_test, y_train, y_test"
   ]
  },
  {
   "cell_type": "code",
   "execution_count": 109,
   "metadata": {},
   "outputs": [],
   "source": [
    "X_train, X_val, y_train, y_val = normalise(X_train, X_val, y_train, y_val)"
   ]
  },
  {
   "cell_type": "code",
   "execution_count": 110,
   "metadata": {
    "id": "jBswiVjC689m"
   },
   "outputs": [
    {
     "name": "stdout",
     "output_type": "stream",
     "text": [
      "MSE: 0.010995709175721886, R2: 0.6872797475661063\n"
     ]
    }
   ],
   "source": [
    "regr = NormalLR()\n",
    "regr.fit(X_train, y_train)\n",
    "y_pred = regr.predict(X_val)\n",
    "print(f\"MSE: {mse(y_val, y_pred)}, R2: {r2(y_val, y_pred)}\")"
   ]
  },
  {
   "cell_type": "code",
   "execution_count": 111,
   "metadata": {
    "id": "dLUWno_N689m"
   },
   "outputs": [
    {
     "data": {
      "image/png": "[encoded data removed]",
      "text/plain": [
       "<Figure size 648x288 with 1 Axes>"
      ]
     },
     "metadata": {
      "needs_background": "light"
     },
     "output_type": "display_data"
    },
    {
     "name": "stdout",
     "output_type": "stream",
     "text": [
      "CPU times: user 17.4 s, sys: 354 ms, total: 17.8 s\n",
      "Wall time: 17.8 s\n"
     ]
    }
   ],
   "source": [
    "%%time\n",
    "build_plot(X_train, y_train, X_val, y_val)"
   ]
  },
  {
   "cell_type": "code",
   "execution_count": 135,
   "metadata": {
    "id": "pqHBX4Gn689m"
   },
   "outputs": [
    {
     "name": "stdout",
     "output_type": "stream",
     "text": [
      "MSE: 0.01084150194669796, R2: 0.691665433183726\n"
     ]
    }
   ],
   "source": [
    "regr = GradientLR(0.1, iterations=10000, l=0.00025)\n",
    "regr.fit(X_train, y_train)\n",
    "y_pred = regr.predict(X_val)\n",
    "print(f\"MSE: {mse(y_val, y_pred)}, R2: {r2(y_val, y_pred)}\")"
   ]
  },
  {
   "cell_type": "markdown",
   "metadata": {
    "id": "hYrkoSNw689m"
   },
   "source": [
    "### Задание 5 (2 балла)\n",
    "Проинтерпритируйте полученные результаты. Опишите влияние каждого признака на результат предсказания."
   ]
  },
  {
   "cell_type": "code",
   "execution_count": 140,
   "metadata": {
    "id": "J_1RhVl8689m"
   },
   "outputs": [
    {
     "name": "stdout",
     "output_type": "stream",
     "text": [
      "Intercept: 0.29762499368024214\n",
      "Coefficients: [-6.28524015e-02  7.46559699e-02 -2.08033465e-05  5.03701322e-02\n",
      " -9.29308773e-02  5.53627647e-01  1.39208249e-02 -2.19323908e-01\n",
      "  1.07241254e-01 -1.31986857e-01 -1.56474686e-01  1.10167045e-01\n",
      " -3.88274833e-01]\n"
     ]
    }
   ],
   "source": [
    "print(f\"Intercept: {regr.intercept_}\\nCoefficients: {regr.coef_}\")"
   ]
  },
  {
   "cell_type": "markdown",
   "metadata": {},
   "source": [
    "  1. crim     per capita crime rate by town\n",
    "  2. zn       proportion of residential land zoned for lots over 25,000 sq.ft.\n",
    "  3. indus    proportion of non-retail business acres per town\n",
    "  4. chas     Charles River dummy variable (= 1 if tract bounds river; 0 otherwise)\n",
    "  5. nox      nitric oxides concentration (parts per 10 million)\n",
    "  6. rm       average number of rooms per dwelling\n",
    "  7. age      proportion of owner-occupied units built prior to 1940\n",
    "  8. dis      weighted distances to five Boston employment centres\n",
    "  9. rad      index of accessibility to radial highways\n",
    "10. tax      full-value property-tax rate per 10,000 dollars\n",
    " 11. ptratio  pupil-teacher ratio by town\n",
    " 12. b        1000(Bk - 0.63)^2 where Bk is the proportion of blacks by town\n",
    " 13. lstat    \\% lower status of the population\n",
    "\n",
    "`y`  medv     median value of owner-occupied homes in dollars"
   ]
  },
  {
   "cell_type": "markdown",
   "metadata": {},
   "source": [
    "`Intercept=0.3` означает, что, если все фичи равны нулю, значение `y` равно 0.3.\n",
    "\n",
    "Отрицательные коэффициенты говорят об уменьшении `y` с ростом фичи, положительные -- об увеличении. Так, фичи `crim`, `indus`, `nox`, `dis`, `tax`, `ptratio` и `lstat`своим ростом уменьшают значение медианной стоимости жилых домов, а остальные -- увеличивают. Более конкретно, например, с ростом показателя криминальности района на единицу стоимость жилых домов снижается на 0.06, с ростом концентрации nitric oxides на единицу стоимость жилья снижается на 0.09, а с ростом пропорции жилых домов, построенных до 1940, увеличивается на 0.01."
   ]
  },
  {
   "cell_type": "code",
   "execution_count": null,
   "metadata": {},
   "outputs": [],
   "source": []
  }
 ],
 "metadata": {
  "colab": {
   "collapsed_sections": [],
   "name": "hw3_task.ipynb",
   "provenance": []
  },
  "kernelspec": {
   "display_name": "Python 3",
   "language": "python",
   "name": "python3"
  },
  "language_info": {
   "codemirror_mode": {
    "name": "ipython",
    "version": 3
   },
   "file_extension": ".py",
   "mimetype": "text/x-python",
   "name": "python",
   "nbconvert_exporter": "python",
   "pygments_lexer": "ipython3",
   "version": "3.7.1"
  }
 },
 "nbformat": 4,
 "nbformat_minor": 1
}
